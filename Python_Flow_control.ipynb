{
  "nbformat": 4,
  "nbformat_minor": 0,
  "metadata": {
    "colab": {
      "provenance": [],
      "authorship_tag": "ABX9TyNGj7ildi5DOV+qipx52DHT",
      "include_colab_link": true
    },
    "kernelspec": {
      "name": "python3",
      "display_name": "Python 3"
    },
    "language_info": {
      "name": "python"
    }
  },
  "cells": [
    {
      "cell_type": "markdown",
      "metadata": {
        "id": "view-in-github",
        "colab_type": "text"
      },
      "source": [
        "<a href=\"https://colab.research.google.com/github/Udaykiran06-art/PYTHON-FLOW-CONTROL/blob/main/Python_Flow_control.ipynb\" target=\"_parent\"><img src=\"https://colab.research.google.com/assets/colab-badge.svg\" alt=\"Open In Colab\"/></a>"
      ]
    },
    {
      "cell_type": "code",
      "execution_count": null,
      "metadata": {
        "colab": {
          "base_uri": "https://localhost:8080/"
        },
        "id": "w1OYD7EGQfRE",
        "outputId": "bea2b44a-cc2a-44ab-b726-3f3582cf5e00"
      },
      "outputs": [
        {
          "output_type": "stream",
          "name": "stdout",
          "text": [
            "one\n",
            "two\n",
            "three\n"
          ]
        }
      ],
      "source": [
        "#Sequential statement : executes from top to bottom\n",
        "print(\"one\")\n",
        "print(\"two\")\n",
        "print(\"three\")\n"
      ]
    },
    {
      "cell_type": "code",
      "source": [
        "#uing for loop printing value from list\n",
        "values = [10,20,30,40,\"uday\"]\n",
        "for value in values:\n",
        "    print(value)"
      ],
      "metadata": {
        "colab": {
          "base_uri": "https://localhost:8080/"
        },
        "id": "qgaBdjrI0Z4w",
        "outputId": "d0d41542-044b-4483-a7d0-5b6d2d81dc5d"
      },
      "execution_count": null,
      "outputs": [
        {
          "output_type": "stream",
          "name": "stdout",
          "text": [
            "10\n",
            "20\n",
            "30\n",
            "40\n",
            "uday\n"
          ]
        }
      ]
    },
    {
      "cell_type": "code",
      "source": [
        "#printing numbers from 1 to 5 by using while loop\n",
        "x = 1\n",
        "while x <= 5:\n",
        "  print(x)\n",
        "  x = x+1\n",
        "print(\"end\")"
      ],
      "metadata": {
        "colab": {
          "base_uri": "https://localhost:8080/"
        },
        "id": "x4anAyTA03hc",
        "outputId": "fa989062-0a61-4a5c-9e2a-27ec88d254b2"
      },
      "execution_count": null,
      "outputs": [
        {
          "output_type": "stream",
          "name": "stdout",
          "text": [
            "1\n",
            "2\n",
            "3\n",
            "4\n",
            "5\n",
            "end\n"
          ]
        }
      ]
    },
    {
      "cell_type": "code",
      "source": [
        "#printing while loop without break\n",
        "x = 1\n",
        "while x <=10:\n",
        "  print(\"x=\",x)\n",
        "  x = x+1\n",
        "print(\"out of loop\")"
      ],
      "metadata": {
        "colab": {
          "base_uri": "https://localhost:8080/"
        },
        "id": "jcXlNoxb1fNY",
        "outputId": "1c38ce64-eb0e-412b-eb54-53031f6627f3"
      },
      "execution_count": null,
      "outputs": [
        {
          "output_type": "stream",
          "name": "stdout",
          "text": [
            "x= 1\n",
            "x= 2\n",
            "x= 3\n",
            "x= 4\n",
            "x= 5\n",
            "x= 6\n",
            "x= 7\n",
            "x= 8\n",
            "x= 9\n",
            "x= 10\n",
            "out of loop\n"
          ]
        }
      ]
    },
    {
      "cell_type": "code",
      "source": [
        "#print just 1 to 5 by using while loop and break\n",
        "x = 1\n",
        "while x <= 10:\n",
        "  print(\"x=\",x)\n",
        "  x = x+1\n",
        "  if x == 5:\n",
        "          break\n",
        "print(\"out of loop\")"
      ],
      "metadata": {
        "colab": {
          "base_uri": "https://localhost:8080/"
        },
        "id": "V_W1MxZp13dI",
        "outputId": "c10cc2f9-6ce3-4240-c795-6fe0d3da3377"
      },
      "execution_count": null,
      "outputs": [
        {
          "output_type": "stream",
          "name": "stdout",
          "text": [
            "x= 1\n",
            "x= 2\n",
            "x= 3\n",
            "x= 4\n",
            "out of loop\n"
          ]
        }
      ]
    },
    {
      "cell_type": "code",
      "source": [
        "#break without loop\n",
        "x = 1\n",
        "if x<=10:\n",
        "      print(x)\n",
        "      break\n",
        "\n"
      ],
      "metadata": {
        "colab": {
          "base_uri": "https://localhost:8080/",
          "height": 106
        },
        "id": "kLGQqM072l_A",
        "outputId": "1bb0be97-c039-467c-9a9f-d6c46d43b7e3"
      },
      "execution_count": null,
      "outputs": [
        {
          "output_type": "error",
          "ename": "SyntaxError",
          "evalue": "'break' outside loop (ipython-input-1157621890.py, line 5)",
          "traceback": [
            "\u001b[0;36m  File \u001b[0;32m\"/tmp/ipython-input-1157621890.py\"\u001b[0;36m, line \u001b[0;32m5\u001b[0m\n\u001b[0;31m    break\u001b[0m\n\u001b[0m    ^\u001b[0m\n\u001b[0;31mSyntaxError\u001b[0m\u001b[0;31m:\u001b[0m 'break' outside loop\n"
          ]
        }
      ]
    },
    {
      "cell_type": "code",
      "source": [
        "#continue statement\n",
        "cart =[10,20,30,500,700,50,60]\n",
        "for item in cart:\n",
        "       if item == 500:\n",
        "             continue\n",
        "       print(item)"
      ],
      "metadata": {
        "colab": {
          "base_uri": "https://localhost:8080/"
        },
        "id": "jb6fEyVr3Pz7",
        "outputId": "56d4d3c1-83a2-41c8-efd9-c999ee0391c6"
      },
      "execution_count": null,
      "outputs": [
        {
          "output_type": "stream",
          "name": "stdout",
          "text": [
            "10\n",
            "20\n",
            "30\n",
            "700\n",
            "50\n",
            "60\n"
          ]
        }
      ]
    },
    {
      "cell_type": "code",
      "source": [
        "#continue without loop\n",
        "x = 1\n",
        "if x<=10:\n",
        "      continue\n",
        "      print(x)"
      ],
      "metadata": {
        "colab": {
          "base_uri": "https://localhost:8080/",
          "height": 106
        },
        "id": "lQno81F84IpW",
        "outputId": "913d0c31-e1dd-4cc7-a62f-c69a2b055b87"
      },
      "execution_count": null,
      "outputs": [
        {
          "output_type": "error",
          "ename": "SyntaxError",
          "evalue": "'continue' not properly in loop (ipython-input-355942339.py, line 4)",
          "traceback": [
            "\u001b[0;36m  File \u001b[0;32m\"/tmp/ipython-input-355942339.py\"\u001b[0;36m, line \u001b[0;32m4\u001b[0m\n\u001b[0;31m    continue\u001b[0m\n\u001b[0m    ^\u001b[0m\n\u001b[0;31mSyntaxError\u001b[0m\u001b[0;31m:\u001b[0m 'continue' not properly in loop\n"
          ]
        }
      ]
    },
    {
      "cell_type": "code",
      "source": [
        "#function without pass statement\n",
        "def upcoming_sale():\n",
        "upcoming_sales()"
      ],
      "metadata": {
        "colab": {
          "base_uri": "https://localhost:8080/",
          "height": 106
        },
        "id": "PXpxHug54fJf",
        "outputId": "600ae03a-ae4c-48d0-9391-909e690727fa"
      },
      "execution_count": null,
      "outputs": [
        {
          "output_type": "error",
          "ename": "IndentationError",
          "evalue": "expected an indented block after function definition on line 2 (ipython-input-3820062581.py, line 3)",
          "traceback": [
            "\u001b[0;36m  File \u001b[0;32m\"/tmp/ipython-input-3820062581.py\"\u001b[0;36m, line \u001b[0;32m3\u001b[0m\n\u001b[0;31m    upcoming_sales()\u001b[0m\n\u001b[0m    ^\u001b[0m\n\u001b[0;31mIndentationError\u001b[0m\u001b[0;31m:\u001b[0m expected an indented block after function definition on line 2\n"
          ]
        }
      ]
    },
    {
      "cell_type": "code",
      "source": [
        "#function with pass\n",
        "def upcoming_sale():\n",
        "  pass\n",
        "upcoming_sale()"
      ],
      "metadata": {
        "id": "d0_OdU9M44-v"
      },
      "execution_count": null,
      "outputs": []
    },
    {
      "cell_type": "code",
      "source": [
        "#Executing if block statements by using if statement\n",
        "x = 1\n",
        "y = 1\n",
        "print(\"x==y value is:\",(x==y))\n",
        "if x==y:\n",
        "    print(\"if block statements executed\")\n"
      ],
      "metadata": {
        "colab": {
          "base_uri": "https://localhost:8080/"
        },
        "id": "_R3O8owiQ_an",
        "outputId": "51231861-804e-4915-e5de-6d65d22aa90e"
      },
      "execution_count": null,
      "outputs": [
        {
          "output_type": "stream",
          "name": "stdout",
          "text": [
            "x==y value is: True\n",
            "if block statements executed\n"
          ]
        }
      ]
    },
    {
      "cell_type": "code",
      "source": [
        "#Executing out of if block statements\n",
        "x = 1\n",
        "y = 2\n",
        "print(\"x==y value is:\",(x==y))\n",
        "if x==y:\n",
        "    print(\"if block is statements executed\")\n",
        "print(\"out of if block statements\")"
      ],
      "metadata": {
        "colab": {
          "base_uri": "https://localhost:8080/"
        },
        "id": "LWQHFC3iRp66",
        "outputId": "707a5cd9-116b-4d34-dd7c-3ba2e04ab2dc"
      },
      "execution_count": null,
      "outputs": [
        {
          "output_type": "stream",
          "name": "stdout",
          "text": [
            "x==y value is: False\n",
            "out of if block statements\n"
          ]
        }
      ]
    },
    {
      "cell_type": "code",
      "source": [
        "#Executing if block statements by using if else statement\n",
        "x = 1\n",
        "y = 2\n",
        "print(\"x==y value is:\",(x==y))\n",
        "if x==y:\n",
        "    print(\"if block statements executed\")\n",
        "else:\n",
        "    print(\"else block statements executed\")\n"
      ],
      "metadata": {
        "colab": {
          "base_uri": "https://localhost:8080/"
        },
        "id": "JcTzv__PSSTq",
        "outputId": "19cf0eb1-49ea-4e9a-e507-c7f68f4f8773"
      },
      "execution_count": null,
      "outputs": [
        {
          "output_type": "stream",
          "name": "stdout",
          "text": [
            "x==y value is: False\n",
            "else block statements executed\n"
          ]
        }
      ]
    },
    {
      "cell_type": "code",
      "source": [
        "#Printing corresponding value by using if,elif,else statements\n",
        "print(\"please enter the values from 0 to 4\")\n",
        "x = int(input(\"enter a number:\"))\n",
        "if x == 0:\n",
        "    print(\"you entered:\",x)\n",
        "elif x==1:\n",
        "    print(\"you entered:\",x)\n",
        "elif x==2:\n",
        "    print(\"you entered:\",x)\n",
        "elif x==3:\n",
        "    print(\"you entered:\",x)\n",
        "elif x==4:\n",
        "    print(\"you entered:\",x)\n",
        "else:\n",
        "    print(\"beyond the range than specified\")"
      ],
      "metadata": {
        "colab": {
          "base_uri": "https://localhost:8080/"
        },
        "id": "MYVS1y8aTjST",
        "outputId": "8fa17528-87e5-4894-fb83-38830ff17f79"
      },
      "execution_count": null,
      "outputs": [
        {
          "output_type": "stream",
          "name": "stdout",
          "text": [
            "please enter the values from 0 to 4\n",
            "enter a number:100\n",
            "beyond the range than specified\n"
          ]
        }
      ]
    }
  ]
}